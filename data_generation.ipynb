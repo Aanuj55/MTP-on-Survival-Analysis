{
 "cells": [
  {
   "cell_type": "code",
   "execution_count": 1,
   "id": "ae420464",
   "metadata": {},
   "outputs": [],
   "source": [
    "import pandas as pd\n",
    "import numpy as np\n",
    "import random\n",
    "from datetime import datetime, timedelta\n",
    "import matplotlib.pyplot as plt"
   ]
  },
  {
   "cell_type": "code",
   "execution_count": 2,
   "id": "5f51cc3e",
   "metadata": {},
   "outputs": [],
   "source": [
    "def throw_dice():\n",
    "    x = random.randint(1,6)\n",
    "    return x"
   ]
  },
  {
   "cell_type": "code",
   "execution_count": 3,
   "id": "8ad476c1",
   "metadata": {},
   "outputs": [],
   "source": [
    "random.seed(81)\n",
    "np.random.seed(81)"
   ]
  },
  {
   "cell_type": "code",
   "execution_count": 13,
   "id": "96cd57e9",
   "metadata": {},
   "outputs": [
    {
     "data": {
      "text/plain": [
       "5"
      ]
     },
     "execution_count": 13,
     "metadata": {},
     "output_type": "execute_result"
    }
   ],
   "source": [
    "\n",
    "int((datetime(2023,8, 31)-datetime(2018, 1, 1)).days/364)"
   ]
  },
  {
   "cell_type": "code",
   "execution_count": 15,
   "id": "e5ac1585",
   "metadata": {},
   "outputs": [
    {
     "name": "stdout",
     "output_type": "stream",
     "text": [
      "      Patient       Date  Pulse  eGFR Gender Alcohol  Haemoglobin  Albumin  \\\n",
      "0        5477 2018-01-02     98    99      F       N        15.09     27.6   \n",
      "1        4701 2018-01-02     85    22      F       N        16.73     33.8   \n",
      "2        5724 2018-01-02     76    65      F       N        14.86     38.3   \n",
      "3        4896 2018-01-04     98    75      M       N         8.51     45.2   \n",
      "4        5854 2018-01-05     54    39      M       Y        15.04     47.6   \n",
      "...       ...        ...    ...   ...    ...     ...          ...      ...   \n",
      "6808     5373 2024-03-21     57   110      M       N        13.64     36.4   \n",
      "6809     5737 2024-03-30     56    97      M       Y        14.50     25.5   \n",
      "6810     4914 2024-04-30    110    87      M       Y         8.61     35.8   \n",
      "6811     5191 2024-06-24     61    11      F       N        14.96     33.9   \n",
      "6812     5300 2024-07-27     88   115      M       N        14.63     45.7   \n",
      "\n",
      "      Age  Status  \n",
      "0      31       0  \n",
      "1      28       0  \n",
      "2      64       0  \n",
      "3      45       0  \n",
      "4      85       0  \n",
      "...   ...     ...  \n",
      "6808   31       0  \n",
      "6809   68       0  \n",
      "6810   38       0  \n",
      "6811   80       0  \n",
      "6812   42       0  \n",
      "\n",
      "[6813 rows x 10 columns]\n"
     ]
    }
   ],
   "source": [
    "# Create empty lists to store data\n",
    "dates = []\n",
    "pulse_values = []\n",
    "egfr_values = []\n",
    "gender_values = []\n",
    "alco_values = []\n",
    "haemo_values = []\n",
    "albumin_values = []\n",
    "age_values = []\n",
    "status_val = []\n",
    "patient_id = []\n",
    "patients = list(np.arange(4500,7500))\n",
    "\n",
    "# Define the Heart rate intervals\n",
    "pulse_intervals = [(50, 60), (61, 70), (71, 80), (81, 90), (91,100), (101, 110)]\n",
    "\n",
    "#Define eGFR intervals\n",
    "egfr_intervals = [(0, 15), (16, 30), (31, 60), (61, 90), (91,105),(106,120)]\n",
    "\n",
    "#Haemoglobin intervals\n",
    "haemo_intervals = [(8,11),(13.6,17.7),(12.1,15.1)]\n",
    "\n",
    "#Albumin intervals\n",
    "albumin_intervals = [(25,34),(34,40),(40,48)]\n",
    "\n",
    "# Generate random datetime values\n",
    "start_date = datetime(2018, 1, 1)\n",
    "end_date = datetime(2023,8, 31)\n",
    "\n",
    "for _ in range(1500):\n",
    "    # Generate a random datetime within the specified range\n",
    "    num_visits = random.randint(2,10)\n",
    "    pat_id = patients[_]\n",
    "    gender = random.choice([\"M\",\"F\"])[0]\n",
    "    alco = random.choice([\"Yes\",\"No\"])[0]\n",
    "    ag = round(random.randint(28,92),2)\n",
    "    first_date = start_date + timedelta(days=random.randint(0, 364*4))  \n",
    "    last_visit = first_date\n",
    "    for visit in range(num_visits):\n",
    "        if visit==1:\n",
    "            dates.append(first_date)\n",
    "            age_values.append(ag)\n",
    "        else:\n",
    "            another_visit = last_visit + timedelta(days=random.randint(0, 364*0.5))  #other visit within 6 months\n",
    "            dates.append(another_visit)\n",
    "            last_visit = another_visit\n",
    "            \n",
    "            curr_ag = ag + int((another_visit - first_date).days / 364) #year elpased after first visit\n",
    "            age_values.append(curr_ag)\n",
    "            \n",
    "        gender_values.append(gender)\n",
    "        alco_values.append(alco)\n",
    "        \n",
    "        patient_id.append(pat_id)\n",
    "\n",
    "        # Generate a random BP rate within one of the defined intervals\n",
    "        id1 = throw_dice()\n",
    "        pulse_interval = pulse_intervals[id1-1]\n",
    "        pulse_value = random.randint(pulse_interval[0], pulse_interval[1])\n",
    "        pulse_values.append(pulse_value)\n",
    "        \n",
    "        #generate a random egfr value\n",
    "        id2 = throw_dice()\n",
    "        gfr_interval = egfr_intervals[id2-1]\n",
    "        gfr_value = random.randint(gfr_interval[0], gfr_interval[1])\n",
    "        egfr_values.append(gfr_value)\n",
    "        \n",
    "        #generate random haemoglobin value\n",
    "        num = np.random.uniform(0,1)\n",
    "        id3 = 1 if num<0.33 else (2 if num<0.66 else 3)\n",
    "        haemo_interval = haemo_intervals[id3-1]\n",
    "        haemo_value = round(random.uniform(haemo_interval[0], haemo_interval[1]),2)\n",
    "        haemo_values.append(haemo_value)\n",
    "        \n",
    "        #generate random albumin value\n",
    "        num = np.random.uniform(0,1)\n",
    "        id4 = 1 if num<0.33 else (2 if num<0.66 else 3)\n",
    "        albumin_interval = albumin_intervals[id4-1]\n",
    "        albumin_val = round(random.uniform(albumin_interval[0], albumin_interval[1]),1)\n",
    "        albumin_values.append(albumin_val)\n",
    "        \n",
    "        if visit == random.randint(4,10):\n",
    "            status_val.append(0)\n",
    "            break\n",
    "        if(id3==1 and gender==\"F\" and id2<=3 and id4==1):  #low haemoglobin in Female with lower eGFR and low albumin\n",
    "            status_val.append(1)\n",
    "            break\n",
    "        if(id2==2 and id1<=2 and id4==1): #low egfr with low pulse and low albumin\n",
    "            status_val.append(1)\n",
    "            break\n",
    "        if(ag>80 and id4==1):           #age>80 and low albumin\n",
    "            status_val.append(1)\n",
    "            break\n",
    "        else:\n",
    "            status_val.append(0)\n",
    "\n",
    "# Create a pandas DataFrame\n",
    "data = {'Patient':patient_id,'Date': dates, 'Pulse': pulse_values, 'eGFR':egfr_values,'Gender':gender_values,\n",
    "        'Alcohol':alco_values,'Haemoglobin':haemo_values,'Albumin':albumin_values,'Age':age_values,'Status': status_val}\n",
    "df = pd.DataFrame(data)\n",
    "\n",
    "# Sort the DataFrame by date\n",
    "df.sort_values(by='Date', inplace=True)\n",
    "\n",
    "# Reset the index\n",
    "df.reset_index(drop=True, inplace=True)\n",
    "\n",
    "# Display the DataFrame\n",
    "print(df)\n"
   ]
  },
  {
   "cell_type": "code",
   "execution_count": 16,
   "id": "3d0f2acc",
   "metadata": {},
   "outputs": [
    {
     "name": "stdout",
     "output_type": "stream",
     "text": [
      "         Date  Pulse  eGFR  Gender  Alcohol  Haemoglobin  Albumin  Age  Status\n",
      "Patient                                                                       \n",
      "4500        4      4     4       4        4            4        4    4       4\n",
      "4501        7      7     7       7        7            7        7    7       7\n",
      "4502        6      6     6       6        6            6        6    6       6\n",
      "4503        6      6     6       6        6            6        6    6       6\n",
      "4504        5      5     5       5        5            5        5    5       5\n",
      "...       ...    ...   ...     ...      ...          ...      ...  ...     ...\n",
      "5995        6      6     6       6        6            6        6    6       6\n",
      "5996        1      1     1       1        1            1        1    1       1\n",
      "5997        4      4     4       4        4            4        4    4       4\n",
      "5998       10     10    10      10       10           10       10   10      10\n",
      "5999        4      4     4       4        4            4        4    4       4\n",
      "\n",
      "[1500 rows x 9 columns]\n"
     ]
    },
    {
     "data": {
      "text/html": [
       "<div>\n",
       "<style scoped>\n",
       "    .dataframe tbody tr th:only-of-type {\n",
       "        vertical-align: middle;\n",
       "    }\n",
       "\n",
       "    .dataframe tbody tr th {\n",
       "        vertical-align: top;\n",
       "    }\n",
       "\n",
       "    .dataframe thead th {\n",
       "        text-align: right;\n",
       "    }\n",
       "</style>\n",
       "<table border=\"1\" class=\"dataframe\">\n",
       "  <thead>\n",
       "    <tr style=\"text-align: right;\">\n",
       "      <th></th>\n",
       "      <th>Patient</th>\n",
       "      <th>Date</th>\n",
       "      <th>Pulse</th>\n",
       "      <th>eGFR</th>\n",
       "      <th>Gender</th>\n",
       "      <th>Alcohol</th>\n",
       "      <th>Haemoglobin</th>\n",
       "      <th>Albumin</th>\n",
       "      <th>Age</th>\n",
       "      <th>Status</th>\n",
       "    </tr>\n",
       "  </thead>\n",
       "  <tbody>\n",
       "    <tr>\n",
       "      <th>1630</th>\n",
       "      <td>4502</td>\n",
       "      <td>2019-07-16</td>\n",
       "      <td>101</td>\n",
       "      <td>91</td>\n",
       "      <td>F</td>\n",
       "      <td>N</td>\n",
       "      <td>8.50</td>\n",
       "      <td>40.6</td>\n",
       "      <td>52</td>\n",
       "      <td>0</td>\n",
       "    </tr>\n",
       "    <tr>\n",
       "      <th>2100</th>\n",
       "      <td>4502</td>\n",
       "      <td>2019-10-27</td>\n",
       "      <td>77</td>\n",
       "      <td>118</td>\n",
       "      <td>F</td>\n",
       "      <td>N</td>\n",
       "      <td>15.82</td>\n",
       "      <td>44.7</td>\n",
       "      <td>52</td>\n",
       "      <td>0</td>\n",
       "    </tr>\n",
       "    <tr>\n",
       "      <th>2366</th>\n",
       "      <td>4502</td>\n",
       "      <td>2019-12-31</td>\n",
       "      <td>60</td>\n",
       "      <td>47</td>\n",
       "      <td>F</td>\n",
       "      <td>N</td>\n",
       "      <td>12.74</td>\n",
       "      <td>45.5</td>\n",
       "      <td>52</td>\n",
       "      <td>0</td>\n",
       "    </tr>\n",
       "    <tr>\n",
       "      <th>2444</th>\n",
       "      <td>4502</td>\n",
       "      <td>2020-01-18</td>\n",
       "      <td>70</td>\n",
       "      <td>70</td>\n",
       "      <td>F</td>\n",
       "      <td>N</td>\n",
       "      <td>13.18</td>\n",
       "      <td>46.3</td>\n",
       "      <td>52</td>\n",
       "      <td>0</td>\n",
       "    </tr>\n",
       "    <tr>\n",
       "      <th>2742</th>\n",
       "      <td>4502</td>\n",
       "      <td>2020-03-16</td>\n",
       "      <td>66</td>\n",
       "      <td>111</td>\n",
       "      <td>F</td>\n",
       "      <td>N</td>\n",
       "      <td>16.68</td>\n",
       "      <td>26.0</td>\n",
       "      <td>52</td>\n",
       "      <td>0</td>\n",
       "    </tr>\n",
       "    <tr>\n",
       "      <th>3110</th>\n",
       "      <td>4502</td>\n",
       "      <td>2020-06-02</td>\n",
       "      <td>82</td>\n",
       "      <td>64</td>\n",
       "      <td>F</td>\n",
       "      <td>N</td>\n",
       "      <td>8.20</td>\n",
       "      <td>26.4</td>\n",
       "      <td>52</td>\n",
       "      <td>0</td>\n",
       "    </tr>\n",
       "  </tbody>\n",
       "</table>\n",
       "</div>"
      ],
      "text/plain": [
       "      Patient       Date  Pulse  eGFR Gender Alcohol  Haemoglobin  Albumin  \\\n",
       "1630     4502 2019-07-16    101    91      F       N         8.50     40.6   \n",
       "2100     4502 2019-10-27     77   118      F       N        15.82     44.7   \n",
       "2366     4502 2019-12-31     60    47      F       N        12.74     45.5   \n",
       "2444     4502 2020-01-18     70    70      F       N        13.18     46.3   \n",
       "2742     4502 2020-03-16     66   111      F       N        16.68     26.0   \n",
       "3110     4502 2020-06-02     82    64      F       N         8.20     26.4   \n",
       "\n",
       "      Age  Status  \n",
       "1630   52       0  \n",
       "2100   52       0  \n",
       "2366   52       0  \n",
       "2444   52       0  \n",
       "2742   52       0  \n",
       "3110   52       0  "
      ]
     },
     "execution_count": 16,
     "metadata": {},
     "output_type": "execute_result"
    }
   ],
   "source": [
    "print(df.groupby(['Patient']).count())\n",
    "df[df['Patient']==4502]"
   ]
  },
  {
   "cell_type": "code",
   "execution_count": 17,
   "id": "1929c34d",
   "metadata": {},
   "outputs": [
    {
     "data": {
      "text/plain": [
       "Date  Pulse  eGFR  Gender  Alcohol  Haemoglobin  Albumin  Age  Status\n",
       "2     2      2     2       2        2            2        2    2         248\n",
       "5     5      5     5       5        5            5        5    5         212\n",
       "3     3      3     3       3        3            3        3    3         211\n",
       "6     6      6     6       6        6            6        6    6         182\n",
       "4     4      4     4       4        4            4        4    4         172\n",
       "1     1      1     1       1        1            1        1    1         143\n",
       "7     7      7     7       7        7            7        7    7         126\n",
       "8     8      8     8       8        8            8        8    8          90\n",
       "9     9      9     9       9        9            9        9    9          61\n",
       "10    10     10    10      10       10           10       10   10         55\n",
       "dtype: int64"
      ]
     },
     "execution_count": 17,
     "metadata": {},
     "output_type": "execute_result"
    }
   ],
   "source": [
    "df.groupby(['Patient']).count().value_counts()"
   ]
  },
  {
   "cell_type": "code",
   "execution_count": 18,
   "id": "9b3458c5",
   "metadata": {},
   "outputs": [
    {
     "data": {
      "text/plain": [
       "0    6348\n",
       "1     465\n",
       "Name: Status, dtype: int64"
      ]
     },
     "execution_count": 18,
     "metadata": {},
     "output_type": "execute_result"
    }
   ],
   "source": [
    "df['Status'].value_counts()"
   ]
  },
  {
   "cell_type": "code",
   "execution_count": 19,
   "id": "5d8a3827",
   "metadata": {},
   "outputs": [
    {
     "data": {
      "text/plain": [
       "4697    10\n",
       "5432    10\n",
       "5665    10\n",
       "5710    10\n",
       "4821    10\n",
       "        ..\n",
       "4877     1\n",
       "5757     1\n",
       "4542     1\n",
       "4674     1\n",
       "4806     1\n",
       "Name: Patient, Length: 1500, dtype: int64"
      ]
     },
     "execution_count": 19,
     "metadata": {},
     "output_type": "execute_result"
    }
   ],
   "source": [
    "df['Patient'].value_counts()"
   ]
  },
  {
   "cell_type": "code",
   "execution_count": 20,
   "id": "413cc41f",
   "metadata": {},
   "outputs": [
    {
     "name": "stdout",
     "output_type": "stream",
     "text": [
      "Int64Index([4697, 5432, 5665, 5710, 4821, 5733, 4829, 5775, 5340, 5985,\n",
      "            ...\n",
      "            5485, 4740, 5224, 5309, 4692, 4877, 5757, 4542, 4674, 4806],\n",
      "           dtype='int64', length=1500)\n",
      "[10 10 10 ...  1  1  1]\n"
     ]
    },
    {
     "data": {
      "image/png": "[encoded data removed]",
      "text/plain": [
       "<Figure size 640x480 with 1 Axes>"
      ]
     },
     "metadata": {},
     "output_type": "display_data"
    }
   ],
   "source": [
    "x = df['Patient'].value_counts().index\n",
    "y = df['Patient'].value_counts().values\n",
    "print(x)\n",
    "print(y)\n",
    "plt.hist(list(y))\n",
    "plt.xlabel(\"No of Visits\")\n",
    "plt.ylabel(\"No of patients\")\n",
    "plt.title(\"Number of visits distribution\")\n",
    "plt.show()"
   ]
  },
  {
   "cell_type": "code",
   "execution_count": 21,
   "id": "473ea661",
   "metadata": {},
   "outputs": [
    {
     "name": "stdout",
     "output_type": "stream",
     "text": [
      "Patient\n",
      "4500     4\n",
      "4501     7\n",
      "4502     6\n",
      "4503     6\n",
      "4504     5\n",
      "        ..\n",
      "5995     6\n",
      "5996     1\n",
      "5997     4\n",
      "5998    10\n",
      "5999     4\n",
      "Name: Status, Length: 1500, dtype: int64\n"
     ]
    }
   ],
   "source": [
    "print(df.groupby(['Patient'])['Status'].count())"
   ]
  },
  {
   "cell_type": "code",
   "execution_count": 22,
   "id": "0ec6e53d",
   "metadata": {},
   "outputs": [
    {
     "data": {
      "text/plain": [
       "0    1035\n",
       "1     465\n",
       "Name: Status, dtype: int64"
      ]
     },
     "execution_count": 22,
     "metadata": {},
     "output_type": "execute_result"
    }
   ],
   "source": [
    "df.groupby(['Patient']).sum().reset_index()['Status'].value_counts()"
   ]
  },
  {
   "cell_type": "code",
   "execution_count": 23,
   "id": "f5f33401",
   "metadata": {},
   "outputs": [],
   "source": [
    "df['Alcohol_num'] = df['Alcohol'].map({'Y': 1, 'N': 0})\n",
    "df['gender_num'] = df['Gender'].map({'F': 1, 'M': 0})"
   ]
  },
  {
   "cell_type": "code",
   "execution_count": 24,
   "id": "b2e3947d",
   "metadata": {},
   "outputs": [],
   "source": [
    "df.to_csv('synthetic.csv')"
   ]
  },
  {
   "cell_type": "code",
   "execution_count": null,
   "id": "63d24722",
   "metadata": {},
   "outputs": [],
   "source": []
  }
 ],
 "metadata": {
  "kernelspec": {
   "display_name": "Python 3 (ipykernel)",
   "language": "python",
   "name": "python3"
  },
  "language_info": {
   "codemirror_mode": {
    "name": "ipython",
    "version": 3
   },
   "file_extension": ".py",
   "mimetype": "text/x-python",
   "name": "python",
   "nbconvert_exporter": "python",
   "pygments_lexer": "ipython3",
   "version": "3.8.18"
  }
 },
 "nbformat": 4,
 "nbformat_minor": 5
}
